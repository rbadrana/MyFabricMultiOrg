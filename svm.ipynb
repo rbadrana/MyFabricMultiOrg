{
  "nbformat": 4,
  "nbformat_minor": 0,
  "metadata": {
    "colab": {
      "provenance": [],
      "authorship_tag": "ABX9TyMblh5zOrTu8J9kHDkZiZ/l",
      "include_colab_link": true
    },
    "kernelspec": {
      "name": "python3",
      "display_name": "Python 3"
    },
    "language_info": {
      "name": "python"
    }
  },
  "cells": [
    {
      "cell_type": "markdown",
      "metadata": {
        "id": "view-in-github",
        "colab_type": "text"
      },
      "source": [
        "<a href=\"https://colab.research.google.com/github/rbadrana/MyFabricMultiOrg/blob/master/svm.ipynb\" target=\"_parent\"><img src=\"https://colab.research.google.com/assets/colab-badge.svg\" alt=\"Open In Colab\"/></a>"
      ]
    },
    {
      "cell_type": "markdown",
      "source": [
        "1> In the line of code clf = svm.SVC(kernel='linear', C=1), the kernel parameter is the kernel type used for the SVM.\n",
        "\n",
        "Here are some of the other kernel options you can use:\n",
        "\n",
        "kernel='poly': Uses a polynomial kernel. You can specify the degree of the polynomial using the parameter degree.\n",
        "kernel='rbf': Uses a radial basis function (RBF) kernel. You can specify the width of the RBF kernel using the parameter gamma.\n",
        "kernel='sigmoid': Uses a sigmoid kernel. You can specify the slope of the sigmoid function using the parameter gamma.\n",
        "\n",
        "2>The fit() function is a method of the svm.SVC class in scikit-learn, which is used to train the SVM model on the given training data.\n",
        "\n",
        "The fit() function takes two input arguments: X, which is the training data, and y, which is the corresponding target labels. The function fits the SVM model on the training data by finding the hyperplane that separates the two classes of data points with the maximum margin, according to the chosen kernel and regularization parameters.\n",
        "\n",
        "After the fit() function is called, the SVM model is trained and can be used to make predictions on new data using the predict() function.\n",
        "\n",
        "3> In this example, we first load the CSV file containing the data using the pd.read_csv() function from the pandas library. We then split the dataframe into the input features (X) and target variable (y) using the drop() function and the axis=1 argument to remove the target column from the input features.\n",
        "\n",
        "We then create an SVM object with the desired kernel and regularization parameter using the svm.SVC() function. Finally, we fit the SVM model on the input features and target variable using the fit() function.\n",
        "\n",
        "Note that you may need to preprocess the data before training the SVM model, such as scaling the input features or handling missing values. You can use the pandas library or other Python libraries such as scikit-learn or numpy to perform data preprocessing.\n",
        "\n",
        "4>Pandas DataFrame is a 2-dimensional labeled data structure that is commonly used to represent tabular data. It is a table-like data structure consisting of rows and columns, where each column can have a different data type (e.g., numeric, string, boolean) and each row represents a unique observation or record.\n",
        "\n",
        "A Pandas DataFrame can be created from various sources such as CSV files, Excel spreadsheets, SQL databases, and JSON data. In the example code data = pd.read_csv('data.csv'), pd.read_csv() is a function from the Pandas library that reads a CSV file and returns a DataFrame object containing the data. The CSV file is assumed to have a header row containing the column names.\n",
        "\n",
        "Once the DataFrame object is created, you can manipulate and analyze the data using various Pandas functions and methods. For example, you can extract subsets of the data based on certain conditions, compute summary statistics, perform data aggregation, and visualize the data using built-in functions.\n",
        "\n",
        "5>X = data.drop('target', axis=1) is a line of code that creates a new DataFrame X by dropping the 'target' column from the original DataFrame data.\n",
        "\n",
        "The drop() function is a method of a Pandas DataFrame that is used to remove rows or columns. The first argument of drop() is the label(s) of the row(s) or column(s) to remove, and the second argument axis specifies the axis along which to drop the labels.\n",
        "\n",
        "In this case, 'target' is the label of the column we want to remove, and axis=1 specifies that we want to remove a column, not a row. The result of data.drop('target', axis=1) is a new DataFrame that contains all the columns of data except for the 'target' column.\n",
        "\n",
        "By assigning this new DataFrame to the variable X, we are essentially creating a new DataFrame that contains only the input features of the dataset (i.e., all columns except for the target variable). The resulting X DataFrame can then be used as input to train the SVM model.\n",
        "\n",
        "6>clf.predict([[x1, x2]]) is a method call that predicts the class label for a new data point given its features x1 and x2.\n",
        "\n",
        "The predict() method is a function of the SVC (Support Vector Classifier) object clf that we created earlier. It takes as input a 2D array or matrix of shape (n_samples, n_features), where n_samples is the number of data points and n_features is the number of input features.\n",
        "\n",
        "In this case, we are passing a 2D array with a single row and two columns ([[x1, x2]]) to the predict() method."
      ],
      "metadata": {
        "id": "bKN55G3OZNY6"
      }
    },
    {
      "cell_type": "code",
      "source": [
        "# Import the necessary libraries\n",
        "import numpy as np\n",
        "import pandas as pd\n",
        "from sklearn import svm\n",
        "from sklearn.preprocessing import StandardScaler\n",
        "\n",
        "# Define the data or load the data\n",
        "data = pd.read_csv('/content/diabetes.csv')\n",
        "x = data.drop('Outcome', axis=1) # here x means features \n",
        "y = data['Outcome']               # y means outputs or results\n",
        "#X = np.array([[0, 0], [1, 1],[1,0],[0,1]])\n",
        "#y = np.array([0, 1,1,1])\n",
        "\n",
        "# Scale the features\n",
        "scaler = StandardScaler()\n",
        "normalized_x = scaler.fit_transform(x.values)\n",
        "\n",
        "\n",
        "# Create the SVM object and C is the regularizagtion parameter \n",
        "#clf = svm.SVC(kernel='linear', C=1)\n",
        "clf= svm.SVC(kernel='poly', degree=3, C=1)\n",
        "#clf= svm.SVC(kernel='rbf', gamma=0.1, C=2)\n",
        "#clf= svm.SVC(kernel='sigmoid', gamma=0.01, C=2)\n",
        "\n",
        "# Train the SVM\n",
        "clf.fit(x.values, y)  #X.values should be used instead of X to removes warning \n",
        "testdata=[[12,140,82,43,325,39.2,0.528,58]]\n",
        "normalize_testdata=scaler.fit_transform(testdata)\n",
        "# Make predictions on new data\n",
        "print(\"Pridicted Value is: \",clf.predict(testdata))\n",
        "\n"
      ],
      "metadata": {
        "colab": {
          "base_uri": "https://localhost:8080/"
        },
        "id": "rx5sBjhe13__",
        "outputId": "dce0a170-e623-409a-c29f-65412503363c"
      },
      "execution_count": 31,
      "outputs": [
        {
          "output_type": "stream",
          "name": "stdout",
          "text": [
            "Pridicted Value is:  [1]\n"
          ]
        }
      ]
    }
  ]
}